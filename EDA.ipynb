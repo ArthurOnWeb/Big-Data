{
 "cells": [
  {
   "cell_type": "code",
   "execution_count": null,
   "metadata": {},
   "outputs": [
    {
     "ename": "NameError",
     "evalue": "name 'plt' is not defined",
     "output_type": "error",
     "traceback": [
      "\u001b[1;31m---------------------------------------------------------------------------\u001b[0m",
      "\u001b[1;31mNameError\u001b[0m                                 Traceback (most recent call last)",
      "Cell \u001b[1;32mIn[1], line 24\u001b[0m\n\u001b[0;32m     21\u001b[0m         category_totals[category] \u001b[38;5;241m+\u001b[39m\u001b[38;5;241m=\u001b[39m item[\u001b[38;5;124m\"\u001b[39m\u001b[38;5;124mvotes\u001b[39m\u001b[38;5;124m\"\u001b[39m]\u001b[38;5;241m.\u001b[39mget(category, \u001b[38;5;241m0\u001b[39m)\n\u001b[0;32m     23\u001b[0m \u001b[38;5;66;03m# Bar plot\u001b[39;00m\n\u001b[1;32m---> 24\u001b[0m \u001b[43mplt\u001b[49m\u001b[38;5;241m.\u001b[39mfigure(figsize\u001b[38;5;241m=\u001b[39m(\u001b[38;5;241m10\u001b[39m, \u001b[38;5;241m6\u001b[39m))\n\u001b[0;32m     25\u001b[0m bars \u001b[38;5;241m=\u001b[39m plt\u001b[38;5;241m.\u001b[39mbar(category_totals\u001b[38;5;241m.\u001b[39mkeys(), category_totals\u001b[38;5;241m.\u001b[39mvalues(), color\u001b[38;5;241m=\u001b[39m\u001b[38;5;124m'\u001b[39m\u001b[38;5;124mskyblue\u001b[39m\u001b[38;5;124m'\u001b[39m, edgecolor\u001b[38;5;241m=\u001b[39m\u001b[38;5;124m'\u001b[39m\u001b[38;5;124mblack\u001b[39m\u001b[38;5;124m'\u001b[39m)\n\u001b[0;32m     27\u001b[0m \u001b[38;5;66;03m# Adding value annotations on bars\u001b[39;00m\n",
      "\u001b[1;31mNameError\u001b[0m: name 'plt' is not defined"
     ]
    }
   ],
   "source": [
    "import matplotlib.pyplot as plt\n",
    "# Data for voting statistics\n",
    "voting_data = [\n",
    "    {\"title\": \"Coinbase Joins Forces with the LA Clippers\", \"votes\": {\"negative\": 1, \"positive\": 2, \"important\": 0, \"liked\": 0, \"disliked\": 1, \"lol\": 1, \"toxic\": 0, \"saved\": 0, \"comments\": 0}},\n",
    "    {\"title\": \"Bitcoin ETFs Set to Surpass Satoshi's Holdings by Year-End\", \"votes\": {\"negative\": 0, \"positive\": 7, \"important\": 6, \"liked\": 7, \"disliked\": 0, \"lol\": 0, \"toxic\": 0, \"saved\": 6, \"comments\": 0}},\n",
    "    {\"title\": \"Hong Kong’s largest digital bank launches retail crypto trading\", \"votes\": {\"negative\": 0, \"positive\": 5, \"important\": 3, \"liked\": 5, \"disliked\": 0, \"lol\": 0, \"toxic\": 0, \"saved\": 1, \"comments\": 1}},\n",
    "    {\"title\": \"Cantor Fitzgerald Joins Forces with Tether\", \"votes\": {\"negative\": 0, \"positive\": 6, \"important\": 5, \"liked\": 6, \"disliked\": 0, \"lol\": 0, \"toxic\": 0, \"saved\": 5, \"comments\": 0}},\n",
    "    {\"title\": \"Solana Skyrockets: Spot ETF Filings Surge Amid Pro-Crypto Regulatory Shift!\", \"votes\": {\"negative\": 3, \"positive\": 7, \"important\": 1, \"liked\": 6, \"disliked\": 2, \"lol\": 2, \"toxic\": 0, \"saved\": 3, \"comments\": 1}},\n",
    "    {\"title\": \"Highly Anticipated Spot Solana ETFs Will Be Approved in 2025\", \"votes\": {\"negative\": 3, \"positive\": 6, \"important\": 4, \"liked\": 4, \"disliked\": 3, \"lol\": 2, \"toxic\": 0, \"saved\": 5, \"comments\": 3}},\n",
    "    {\"title\": \"VanEck Has Now Reiterated Its Ambitious Bitcoin Price Target Of $180,000\", \"votes\": {\"negative\": 0, \"positive\": 7, \"important\": 3, \"liked\": 4, \"disliked\": 0, \"lol\": 0, \"toxic\": 0, \"saved\": 1, \"comments\": 0}},\n",
    "    {\"title\": \"Ethereum-to-bitcoin ratio plummets to three-year low as BTC approaches $100,000\", \"votes\": {\"negative\": 3, \"positive\": 0, \"important\": 3, \"liked\": 0, \"disliked\": 3, \"lol\": 4, \"toxic\": 0, \"saved\": 0, \"comments\": 1}},\n",
    "    {\"title\": \"Cardano (ADA) Jumps to Top Section of Weiss Crypto Ranking\", \"votes\": {\"negative\": 2, \"positive\": 4, \"important\": 4, \"liked\": 4, \"disliked\": 2, \"lol\": 3, \"toxic\": 0, \"saved\": 0, \"comments\": 0}},\n",
    "    {\"title\": \"Cardano rises 140%: Here’s why $1 could be a catalyst for FOMO and an ATH\", \"votes\": {\"negative\": 5, \"positive\": 19, \"important\": 6, \"liked\": 13, \"disliked\": 5, \"lol\": 4, \"toxic\": 0, \"saved\": 0, \"comments\": 2}},\n",
    "]\n",
    "\n",
    "# Aggregating voting categories\n",
    "categories = [\"negative\", \"positive\", \"important\", \"liked\", \"disliked\", \"lol\", \"toxic\", \"saved\", \"comments\"]\n",
    "category_totals = {category: 0 for category in categories}\n",
    "\n",
    "for item in voting_data:\n",
    "    for category in categories:\n",
    "        category_totals[category] += item[\"votes\"].get(category, 0)\n",
    "\n",
    "# Bar plot\n",
    "plt.figure(figsize=(10, 6))\n",
    "bars = plt.bar(category_totals.keys(), category_totals.values(), color='skyblue', edgecolor='black')\n",
    "\n",
    "# Adding value annotations on bars\n",
    "for bar in bars:\n",
    "    yval = bar.get_height()\n",
    "    plt.text(bar.get_x() + bar.get_width()/2 - 0.1, yval + 0.5, int(yval), fontsize=10)\n",
    "\n",
    "plt.title(\"Aggregate Voting Statistics\", fontsize=14)\n",
    "plt.ylabel(\"Vote Count\", fontsize=12)\n",
    "plt.xlabel(\"Voting Categories\", fontsize=12)\n",
    "plt.xticks(rotation=45)\n",
    "plt.tight_layout()\n",
    "plt.show()"
   ]
  }
 ],
 "metadata": {
  "kernelspec": {
   "display_name": "Python 3",
   "language": "python",
   "name": "python3"
  },
  "language_info": {
   "codemirror_mode": {
    "name": "ipython",
    "version": 3
   },
   "file_extension": ".py",
   "mimetype": "text/x-python",
   "name": "python",
   "nbconvert_exporter": "python",
   "pygments_lexer": "ipython3",
   "version": "3.12.2"
  }
 },
 "nbformat": 4,
 "nbformat_minor": 2
}
